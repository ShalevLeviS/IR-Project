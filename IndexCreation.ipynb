{
  "cells": [
    {
      "cell_type": "markdown",
      "id": "a00e032c",
      "metadata": {
        "id": "a00e032c"
      },
      "source": [
        "***Important*** DO NOT CLEAR THE OUTPUT OF THIS NOTEBOOK AFTER EXECUTION!!!"
      ]
    },
    {
      "cell_type": "code",
      "execution_count": null,
      "id": "5ac36d3a",
      "metadata": {
        "id": "5ac36d3a",
        "nbgrader": {
          "grade": false,
          "grade_id": "cell-Worker_Count",
          "locked": true,
          "schema_version": 3,
          "solution": false,
          "task": false
        },
        "outputId": "cf88b954-f39a-412a-d87e-660833e735b6"
      },
      "outputs": [
        {
          "name": "stdout",
          "output_type": "stream",
          "text": [
            "NAME          PLATFORM  PRIMARY_WORKER_COUNT  SECONDARY_WORKER_COUNT  STATUS   ZONE           SCHEDULED_DELETE\r\n",
            "cluster-cf9c  GCE       4                                             RUNNING  us-central1-a\r\n"
          ]
        }
      ],
      "source": [
        "# if the following command generates an error, you probably didn't enable\n",
        "# the cluster security option \"Allow API access to all Google Cloud services\"\n",
        "# under Manage Security → Project Access when setting up the cluster\n",
        "!gcloud dataproc clusters list --region us-central1"
      ]
    },
    {
      "cell_type": "markdown",
      "id": "51cf86c5",
      "metadata": {
        "id": "51cf86c5"
      },
      "source": [
        "# Imports & Setup"
      ]
    },
    {
      "cell_type": "code",
      "execution_count": null,
      "id": "bf199e6a",
      "metadata": {
        "id": "bf199e6a",
        "nbgrader": {
          "grade": false,
          "grade_id": "cell-Setup",
          "locked": true,
          "schema_version": 3,
          "solution": false,
          "task": false
        },
        "outputId": "fc0e315d-21e9-411d-d69c-5b97e4e5d629"
      },
      "outputs": [
        {
          "name": "stdout",
          "output_type": "stream",
          "text": [
            "\u001b[33mWARNING: Running pip as the 'root' user can result in broken permissions and conflicting behaviour with the system package manager. It is recommended to use a virtual environment instead: https://pip.pypa.io/warnings/venv\u001b[0m\u001b[33m\n",
            "\u001b[0m\u001b[33mWARNING: Running pip as the 'root' user can result in broken permissions and conflicting behaviour with the system package manager. It is recommended to use a virtual environment instead: https://pip.pypa.io/warnings/venv\u001b[0m\u001b[33m\n",
            "\u001b[0m"
          ]
        }
      ],
      "source": [
        "!pip install -q google-cloud-storage==1.43.0\n",
        "!pip install -q graphframes"
      ]
    },
    {
      "cell_type": "code",
      "execution_count": null,
      "id": "d8f56ecd",
      "metadata": {
        "id": "d8f56ecd",
        "nbgrader": {
          "grade": false,
          "grade_id": "cell-Imports",
          "locked": true,
          "schema_version": 3,
          "solution": false,
          "task": false
        },
        "outputId": "a24aa24b-aa75-4823-83ca-1d7deef0f0de"
      },
      "outputs": [
        {
          "name": "stderr",
          "output_type": "stream",
          "text": [
            "[nltk_data] Downloading package stopwords to /root/nltk_data...\n",
            "[nltk_data]   Package stopwords is already up-to-date!\n"
          ]
        },
        {
          "data": {
            "text/plain": [
              "True"
            ]
          },
          "execution_count": 4,
          "metadata": {},
          "output_type": "execute_result"
        }
      ],
      "source": [
        "import pyspark\n",
        "import sys\n",
        "from collections import Counter, OrderedDict, defaultdict\n",
        "import itertools\n",
        "from itertools import islice, count, groupby\n",
        "import pandas as pd\n",
        "import os\n",
        "import re\n",
        "from operator import itemgetter\n",
        "import nltk\n",
        "from nltk.stem.porter import *\n",
        "from nltk.corpus import stopwords\n",
        "from time import time\n",
        "from pathlib import Path\n",
        "import pickle\n",
        "import pandas as pd\n",
        "from google.cloud import storage\n",
        "\n",
        "import hashlib\n",
        "def _hash(s):\n",
        "    return hashlib.blake2b(bytes(s, encoding='utf8'), digest_size=5).hexdigest()\n",
        "\n",
        "nltk.download('stopwords')"
      ]
    },
    {
      "cell_type": "code",
      "execution_count": null,
      "id": "38a897f2",
      "metadata": {
        "id": "38a897f2",
        "nbgrader": {
          "grade": false,
          "grade_id": "cell-jar",
          "locked": true,
          "schema_version": 3,
          "solution": false,
          "task": false
        },
        "outputId": "8f93a7ec-71e0-49c1-fc81-9af385849a90"
      },
      "outputs": [
        {
          "name": "stdout",
          "output_type": "stream",
          "text": [
            "-rw-r--r-- 1 root root 247882 Mar  3 12:10 /usr/lib/spark/jars/graphframes-0.8.2-spark3.1-s_2.12.jar\r\n"
          ]
        }
      ],
      "source": [
        "# if nothing prints here you forgot to include the initialization script when starting the cluster\n",
        "!ls -l /usr/lib/spark/jars/graph*"
      ]
    },
    {
      "cell_type": "code",
      "execution_count": null,
      "id": "47900073",
      "metadata": {
        "id": "47900073",
        "nbgrader": {
          "grade": false,
          "grade_id": "cell-pyspark-import",
          "locked": true,
          "schema_version": 3,
          "solution": false,
          "task": false
        }
      },
      "outputs": [],
      "source": [
        "from pyspark.sql import *\n",
        "from pyspark.sql.functions import *\n",
        "from pyspark import SparkContext, SparkConf, SparkFiles\n",
        "from pyspark.sql import SQLContext\n",
        "from graphframes import *"
      ]
    },
    {
      "cell_type": "code",
      "execution_count": null,
      "id": "72bed56b",
      "metadata": {
        "id": "72bed56b",
        "nbgrader": {
          "grade": false,
          "grade_id": "cell-spark-version",
          "locked": true,
          "schema_version": 3,
          "solution": false,
          "task": false
        },
        "outputId": "07b4e22b-a252-42fb-fe46-d9050e4e7ca8",
        "scrolled": true
      },
      "outputs": [
        {
          "data": {
            "text/html": [
              "\n",
              "            <div>\n",
              "                <p><b>SparkSession - hive</b></p>\n",
              "                \n",
              "        <div>\n",
              "            <p><b>SparkContext</b></p>\n",
              "\n",
              "            <p><a href=\"http://cluster-cf9c-m.c.ir2024-416011.internal:33851\">Spark UI</a></p>\n",
              "\n",
              "            <dl>\n",
              "              <dt>Version</dt>\n",
              "                <dd><code>v3.3.2</code></dd>\n",
              "              <dt>Master</dt>\n",
              "                <dd><code>yarn</code></dd>\n",
              "              <dt>AppName</dt>\n",
              "                <dd><code>PySparkShell</code></dd>\n",
              "            </dl>\n",
              "        </div>\n",
              "        \n",
              "            </div>\n",
              "        "
            ],
            "text/plain": [
              "<pyspark.sql.session.SparkSession at 0x7f07a3489810>"
            ]
          },
          "execution_count": 7,
          "metadata": {},
          "output_type": "execute_result"
        }
      ],
      "source": [
        "spark"
      ]
    },
    {
      "cell_type": "code",
      "execution_count": null,
      "id": "980e62a5",
      "metadata": {
        "id": "980e62a5",
        "nbgrader": {
          "grade": false,
          "grade_id": "cell-bucket_name",
          "locked": false,
          "schema_version": 3,
          "solution": true,
          "task": false
        }
      },
      "outputs": [],
      "source": [
        "# Put your bucket name below and make sure you can access it without an error\n",
        "bucket_name = '208593988'\n",
        "full_path = f\"gs://{bucket_name}/\"\n",
        "paths=[]\n",
        "\n",
        "client = storage.Client()\n",
        "blobs = client.list_blobs(bucket_name)\n",
        "for b in blobs:\n",
        "    if \"multistre\" in b.name:\n",
        "        paths.append(full_path+b.name)"
      ]
    },
    {
      "cell_type": "markdown",
      "id": "cac891c2",
      "metadata": {
        "id": "cac891c2"
      },
      "source": [
        "***GCP setup is complete!*** If you got here without any errors you've earned 10 out of the 35 points of this part."
      ]
    },
    {
      "cell_type": "markdown",
      "id": "582c3f5e",
      "metadata": {
        "id": "582c3f5e"
      },
      "source": [
        "# Building an inverted index"
      ]
    },
    {
      "cell_type": "markdown",
      "id": "481f2044",
      "metadata": {
        "id": "481f2044"
      },
      "source": [
        "Here, we read the entire corpus to an rdd, directly from Google Storage Bucket and use your code from Colab to construct an inverted index."
      ]
    },
    {
      "cell_type": "code",
      "execution_count": null,
      "id": "e4c523e7",
      "metadata": {
        "id": "e4c523e7",
        "scrolled": false,
        "outputId": "c669480f-f8f4-42fe-e02f-4f7adb4e6139"
      },
      "outputs": [
        {
          "name": "stderr",
          "output_type": "stream",
          "text": [
            "                                                                                \r"
          ]
        }
      ],
      "source": [
        "parquetFile = spark.read.parquet(*paths)\n",
        "doc_text_pairs = parquetFile.select(\"text\", \"id\").rdd\n",
        "doc_title_pairs = parquetFile.select(\"title\", \"id\").rdd\n",
        "doc_anchor_pairs = parquetFile.select(\"id\", \"anchor_text\").rdd"
      ]
    },
    {
      "cell_type": "markdown",
      "id": "0d7e2971",
      "metadata": {
        "id": "0d7e2971"
      },
      "source": [
        "We will count the number of pages to make sure we are looking at the entire corpus. The number of pages should be more than 6M"
      ]
    },
    {
      "cell_type": "code",
      "execution_count": null,
      "id": "82881fbf",
      "metadata": {
        "id": "82881fbf",
        "outputId": "283a1a21-393a-497d-a4b2-fbaf214a7d30"
      },
      "outputs": [
        {
          "name": "stderr",
          "output_type": "stream",
          "text": [
            "                                                                                \r"
          ]
        },
        {
          "data": {
            "text/plain": [
              "6348910"
            ]
          },
          "execution_count": 9,
          "metadata": {},
          "output_type": "execute_result"
        }
      ],
      "source": [
        "# Count number of wiki pages\n",
        "parquetFile.count()"
      ]
    },
    {
      "cell_type": "markdown",
      "id": "701811af",
      "metadata": {
        "id": "701811af"
      },
      "source": [
        "Let's import the inverted index module. Note that you need to use the staff-provided version called `inverted_index_gcp.py`, which contains helper functions to writing and reading the posting files similar to the Colab version, but with writing done to a Google Cloud Storage bucket."
      ]
    },
    {
      "cell_type": "code",
      "execution_count": null,
      "id": "121fe102",
      "metadata": {
        "id": "121fe102",
        "outputId": "327fe81b-80f4-4b3a-8894-e74720d92e35"
      },
      "outputs": [
        {
          "name": "stdout",
          "output_type": "stream",
          "text": [
            "inverted_index_gcp.py\r\n"
          ]
        }
      ],
      "source": [
        "# if nothing prints here you forgot to upload the file inverted_index_gcp.py to the home dir\n",
        "%cd -q /home/dataproc\n",
        "!ls inverted_index_gcp.py"
      ]
    },
    {
      "cell_type": "code",
      "execution_count": null,
      "id": "57c101a8",
      "metadata": {
        "id": "57c101a8",
        "scrolled": true
      },
      "outputs": [],
      "source": [
        "# adding our python module to the cluster\n",
        "sc.addFile(\"/home/dataproc/inverted_index_gcp.py\")\n",
        "sys.path.insert(0,SparkFiles.getRootDirectory())"
      ]
    },
    {
      "cell_type": "code",
      "execution_count": null,
      "id": "c259c402",
      "metadata": {
        "id": "c259c402"
      },
      "outputs": [],
      "source": [
        "from inverted_index_gcp import InvertedIndex"
      ]
    },
    {
      "cell_type": "markdown",
      "id": "5540c727",
      "metadata": {
        "id": "5540c727"
      },
      "source": [
        "**YOUR TASK (10 POINTS)**: Use your implementation of `word_count`, `reduce_word_counts`, `calculate_df`, and `partition_postings_and_write` functions from Colab to build an inverted index for all of English Wikipedia in under 2 hours.\n",
        "\n",
        "A few notes:\n",
        "1. The number of corpus stopwords below is a bit bigger than the colab version since we are working on the whole corpus and not just on one file.\n",
        "2. You need to slightly modify your implementation of  `partition_postings_and_write` because the signature of `InvertedIndex.write_a_posting_list` has changed and now includes an additional argument called `bucket_name` for the target bucket. See the module for more details.\n",
        "3. You are not allowed to change any of the code not coming from Colab."
      ]
    },
    {
      "cell_type": "code",
      "execution_count": null,
      "id": "f3ad8fea",
      "metadata": {
        "id": "f3ad8fea",
        "nbgrader": {
          "grade": false,
          "grade_id": "cell-token2bucket",
          "locked": false,
          "schema_version": 3,
          "solution": true,
          "task": false
        }
      },
      "outputs": [],
      "source": [
        "import numpy as np\n",
        "from numpy.linalg import norm\n",
        "from collections import Counter\n",
        "import pyspark\n",
        "from pyspark.sql import Row\n",
        "\n",
        "english_stopwords = frozenset(stopwords.words('english'))\n",
        "corpus_stopwords = [\"category\", \"references\", \"also\", \"external\", \"links\",\n",
        "                    \"may\", \"first\", \"see\", \"history\", \"people\", \"one\", \"two\",\n",
        "                    \"part\", \"thumb\", \"including\", \"second\", \"following\",\n",
        "                    \"many\", \"however\", \"would\", \"became\"]\n",
        "\n",
        "all_stopwords = english_stopwords.union(corpus_stopwords)\n",
        "RE_WORD = re.compile(r\"\"\"[\\#\\@\\w](['\\-]?\\w){2,24}\"\"\", re.UNICODE)\n",
        "\n",
        "NUM_BUCKETS = 124\n",
        "def token2bucket_id(token):\n",
        "  return int(_hash(token),16) % NUM_BUCKETS\n",
        "\n",
        "def word_count(text, id):\n",
        "  ''' Count the frequency of each word in `text` (tf) that is not included in\n",
        "  `all_stopwords` and return entries that will go into our posting lists.\n",
        "  Parameters:\n",
        "  -----------\n",
        "    text: str\n",
        "      Text of one document\n",
        "    id: int\n",
        "      Document id\n",
        "  Returns:\n",
        "  --------\n",
        "    List of tuples\n",
        "      A list of (token, (doc_id, tf)) pairs\n",
        "      for example: [(\"Anarchism\", (12, 5)), ...]\n",
        "  '''\n",
        "  tokens = [token.group() for token in RE_WORD.finditer(text.lower())]\n",
        "  tokens = [token for token in tokens if token not in all_stopwords]\n",
        "  word_count={}\n",
        "  for token in tokens:\n",
        "    if token not in word_count:\n",
        "      word_count[token] = 1\n",
        "    else:\n",
        "      word_count[token] += 1\n",
        "\n",
        "  tokens_list = []\n",
        "  for k in word_count.keys():\n",
        "    temp = (k, (id, word_count[k]))\n",
        "    tokens_list.append(temp)\n",
        "  return tokens_list\n",
        "\n",
        "def reduce_word_counts(unsorted_pl):\n",
        "  ''' Returns a sorted posting list by wiki_id.\n",
        "  Parameters:\n",
        "  -----------\n",
        "    unsorted_pl: list of tuples\n",
        "      A list of (wiki_id, tf) tuples\n",
        "  Returns:\n",
        "  --------\n",
        "    list of tuples\n",
        "      A sorted posting list.\n",
        "  '''\n",
        "  sorted_pl = sorted(unsorted_pl, key = lambda x: x[0])\n",
        "  return sorted_pl\n",
        "\n",
        "def calculate_df(postings):\n",
        "  ''' Takes a posting list RDD and calculate the df for each token.\n",
        "  Parameters:\n",
        "  -----------\n",
        "    postings: RDD\n",
        "      An RDD where each element is a (token, posting_list) pair.\n",
        "  Returns:\n",
        "  --------\n",
        "    RDD\n",
        "      An RDD where each element is a (token, df) pair.\n",
        "  '''\n",
        "  counts = postings.map(lambda x: (x[0], len(x[1])))\n",
        "  counts.groupByKey()\n",
        "  return counts\n",
        "\n",
        "def partition_postings_and_write(postings, index_bins, folder_name):\n",
        "  ''' A function that partitions the posting lists into buckets, writes out\n",
        "  all posting lists in a bucket to disk, and returns the posting locations for\n",
        "  each bucket. Partitioning should be done through the use of `token2bucket`\n",
        "  above. Writing to disk should use the function  `write_a_posting_list`, a\n",
        "  static method implemented in inverted_index_colab.py under the InvertedIndex\n",
        "  class.\n",
        "  Parameters:\n",
        "  -----------\n",
        "    postings: RDD\n",
        "      An RDD where each item is a (w, posting_list) pair.\n",
        "  Returns:\n",
        "  --------\n",
        "    RDD\n",
        "      An RDD where each item is a posting locations dictionary for a bucket. The\n",
        "      posting locations maintain a list for each word of file locations and\n",
        "      offsets its posting list was written to. See `write_a_posting_list` for\n",
        "      more details.\n",
        "  '''\n",
        "\n",
        "  pl_to_block = postings.map(pl_bucket_mapper)\n",
        "  pl_to_block = pl_to_block.reduceByKey(lambda a,b: [*a, *b])\n",
        "  pl = pl_to_block.map(my_maper)\n",
        "  my_index = InvertedIndex()\n",
        "  posting_locs = pl.map(lambda b_w_pl: my_index.write_a_posting_list(b_w_pl, index_bins, folder_name))\n",
        "  return posting_locs\n",
        "\n",
        "\n",
        "def pl_bucket_mapper(item):\n",
        "  return (token2bucket_id(item[0]), (item[0], item[1]))\n",
        "\n",
        "def my_maper(item):\n",
        "  item1 = item[1]\n",
        "  n = len(item1) - 1\n",
        "  lst = [(item1[i], item1[i+1]) for i in range(0, n, 2)]\n",
        "\n",
        "  return (item[0], lst)\n",
        "\n",
        "def doc_len(text, id):\n",
        "  ''' Count the frequency of each word in `text` (tf) that is not included in\n",
        "  `all_stopwords` and return entries that will go into our posting lists.\n",
        "  Parameters:\n",
        "  -----------\n",
        "    text: str\n",
        "      Text of one document\n",
        "    id: int\n",
        "      Document id\n",
        "  Returns:\n",
        "  --------\n",
        "    List of tuples\n",
        "      A list of (token, (doc_id, tf)) pairs\n",
        "      for example: [(\"Anarchism\", (12, 5)), ...]\n",
        "  '''\n",
        "  tokens = [token.group() for token in RE_WORD.finditer(text.lower())]\n",
        "  tokens = [token for token in tokens if token not in all_stopwords]\n",
        "  return (id, len(tokens))\n",
        "\n",
        "\n",
        "def doc_norm(text, id, d):\n",
        "  ''' Count the frequency of each word in `text` (tf) that is not included in\n",
        "  `all_stopwords` and return entries that will go into our posting lists.\n",
        "  Parameters:\n",
        "  -----------\n",
        "    text: str\n",
        "      Text of one document\n",
        "    id: int\n",
        "      Document id\n",
        "  Returns:\n",
        "  --------\n",
        "    List of tuples\n",
        "      A list of (token, (doc_id, tf)) pairs\n",
        "      for example: [(\"Anarchism\", (12, 5)), ...]\n",
        "  '''\n",
        "  tokens = [token.group() for token in RE_WORD.finditer(text.lower())]\n",
        "  tokens = [token for token in tokens if token not in all_stopwords]\n",
        "  tokens_counter = Counter(tokens)\n",
        "  vec = [item[1]/d[id] for item in tokens_counter.items() if d[id] != 0]\n",
        "\n",
        "\n",
        "  return (id, norm(vec))\n",
        "\n",
        "def calculate_tf(postings):\n",
        "  ''' Takes a posting list RDD and calculate the df for each token.\n",
        "  Parameters:\n",
        "  -----------\n",
        "    postings: RDD\n",
        "      An RDD where each element is a (token, posting_list) pair.\n",
        "  Returns:\n",
        "  --------\n",
        "    RDD\n",
        "      An RDD where each element is a (token, df) pair.\n",
        "  '''\n",
        "  counts = postings.map(lambda x: (x[0], map_tf(x[1])))\n",
        "  counts.groupByKey()\n",
        "  return counts\n",
        "\n",
        "def map_tf(pr):\n",
        "    tf = 0\n",
        "    for p in pr:\n",
        "        tf += p[1]\n",
        "    return tf\n",
        "\n",
        "def map2(row):\n",
        "    txt = \"\"\n",
        "    anchors = row[1]\n",
        "    id = row[0]\n",
        "\n",
        "    for anchor in anchors:\n",
        "        txt += anchor[1]\n",
        "        txt += \" \"\n",
        "    return Row(txt[:-1],id)"
      ]
    },
    {
      "cell_type": "code",
      "execution_count": null,
      "id": "4468eb03",
      "metadata": {
        "id": "4468eb03",
        "outputId": "74341355-5524-4008-c00e-47acd36078b8"
      },
      "outputs": [
        {
          "name": "stderr",
          "output_type": "stream",
          "text": [
            "24/03/03 19:01:40 WARN BlockManagerMasterEndpoint: No more replicas available for broadcast_9_python !\n",
            "24/03/03 19:01:40 WARN YarnAllocator: Container from a bad node: container_1709467795120_0004_01_000005 on host: cluster-cf9c-w-2.c.ir2024-416011.internal. Exit status: 137. Diagnostics: [2024-03-03 19:01:40.523]Container killed on request. Exit code is 137\n",
            "[2024-03-03 19:01:40.526]Container exited with a non-zero exit code 137. \n",
            "[2024-03-03 19:01:40.527]Killed by external signal\n",
            ".\n",
            "24/03/03 19:01:40 ERROR YarnScheduler: Lost executor 5 on cluster-cf9c-w-2.c.ir2024-416011.internal: Container from a bad node: container_1709467795120_0004_01_000005 on host: cluster-cf9c-w-2.c.ir2024-416011.internal. Exit status: 137. Diagnostics: [2024-03-03 19:01:40.523]Container killed on request. Exit code is 137\n",
            "[2024-03-03 19:01:40.526]Container exited with a non-zero exit code 137. \n",
            "[2024-03-03 19:01:40.527]Killed by external signal\n",
            ".\n",
            "24/03/03 19:01:40 WARN YarnSchedulerBackend$YarnSchedulerEndpoint: Requesting driver to remove executor 5 for reason Container from a bad node: container_1709467795120_0004_01_000005 on host: cluster-cf9c-w-2.c.ir2024-416011.internal. Exit status: 137. Diagnostics: [2024-03-03 19:01:40.523]Container killed on request. Exit code is 137\n",
            "[2024-03-03 19:01:40.526]Container exited with a non-zero exit code 137. \n",
            "[2024-03-03 19:01:40.527]Killed by external signal\n",
            ".\n",
            "24/03/03 19:01:40 WARN TaskSetManager: Lost task 4.0 in stage 21.0 (TID 1735) (cluster-cf9c-w-2.c.ir2024-416011.internal executor 5): ExecutorLostFailure (executor 5 exited caused by one of the running tasks) Reason: Container from a bad node: container_1709467795120_0004_01_000005 on host: cluster-cf9c-w-2.c.ir2024-416011.internal. Exit status: 137. Diagnostics: [2024-03-03 19:01:40.523]Container killed on request. Exit code is 137\n",
            "[2024-03-03 19:01:40.526]Container exited with a non-zero exit code 137. \n",
            "[2024-03-03 19:01:40.527]Killed by external signal\n",
            ".\n",
            "24/03/03 19:15:12 WARN YarnAllocator: Container from a bad node: container_1709467795120_0004_01_000010 on host: cluster-cf9c-w-1.c.ir2024-416011.internal. Exit status: 137. Diagnostics: [2024-03-03 19:15:11.493]Container killed on request. Exit code is 137\n",
            "[2024-03-03 19:15:11.493]Container exited with a non-zero exit code 137. \n",
            "[2024-03-03 19:15:11.496]Killed by external signal\n",
            ".\n",
            "24/03/03 19:15:12 ERROR YarnScheduler: Lost executor 9 on cluster-cf9c-w-1.c.ir2024-416011.internal: Container from a bad node: container_1709467795120_0004_01_000010 on host: cluster-cf9c-w-1.c.ir2024-416011.internal. Exit status: 137. Diagnostics: [2024-03-03 19:15:11.493]Container killed on request. Exit code is 137\n",
            "[2024-03-03 19:15:11.493]Container exited with a non-zero exit code 137. \n",
            "[2024-03-03 19:15:11.496]Killed by external signal\n",
            ".\n",
            "24/03/03 19:15:12 WARN YarnSchedulerBackend$YarnSchedulerEndpoint: Requesting driver to remove executor 9 for reason Container from a bad node: container_1709467795120_0004_01_000010 on host: cluster-cf9c-w-1.c.ir2024-416011.internal. Exit status: 137. Diagnostics: [2024-03-03 19:15:11.493]Container killed on request. Exit code is 137\n",
            "[2024-03-03 19:15:11.493]Container exited with a non-zero exit code 137. \n",
            "[2024-03-03 19:15:11.496]Killed by external signal\n",
            ".\n",
            "24/03/03 19:15:12 WARN TaskSetManager: Lost task 55.0 in stage 21.0 (TID 1772) (cluster-cf9c-w-1.c.ir2024-416011.internal executor 9): ExecutorLostFailure (executor 9 exited caused by one of the running tasks) Reason: Container from a bad node: container_1709467795120_0004_01_000010 on host: cluster-cf9c-w-1.c.ir2024-416011.internal. Exit status: 137. Diagnostics: [2024-03-03 19:15:11.493]Container killed on request. Exit code is 137\n",
            "[2024-03-03 19:15:11.493]Container exited with a non-zero exit code 137. \n",
            "[2024-03-03 19:15:11.496]Killed by external signal\n",
            ".\n",
            "                                                                                \r"
          ]
        }
      ],
      "source": [
        "# text index\n",
        "word_counts = doc_text_pairs.flatMap(lambda x: word_count(x[0], x[1]))\n",
        "docs_len = doc_text_pairs.map(lambda x: doc_len(x[0], x[1]))\n",
        "docs_dict = docs_len.collectAsMap()\n",
        "postings = word_counts.groupByKey().mapValues(reduce_word_counts)\n",
        "# filtering postings and calculate df\n",
        "postings_filtered = postings.filter(lambda x: len(x[1])>50)\n",
        "w2df = calculate_df(postings_filtered)\n",
        "w2df_dict = w2df.collectAsMap()\n",
        "w2tf = calculate_tf(postings_filtered)\n",
        "w2tf_dict = w2tf.collectAsMap()\n",
        "docs_norm = doc_text_pairs.map(lambda x: doc_norm(x[0], x[1], docs_dict))\n",
        "norm_dict = docs_norm.collectAsMap()\n",
        "\n",
        "\n",
        "# partition posting lists and write out\n",
        "folder_name = \"postingText\"\n",
        "_ = partition_postings_and_write(postings_filtered, bucket_name, folder_name).collect()\n",
        "super_posting_locs = defaultdict(list)\n",
        "\n",
        "for blob in client.list_blobs(bucket_name, prefix='postingText'):\n",
        "  if not blob.name.endswith(\"pickle\"):\n",
        "    continue\n",
        "  with blob.open(\"rb\") as f:\n",
        "    posting_locs = pickle.load(f)\n",
        "    for k, v in posting_locs.items():\n",
        "      super_posting_locs[k].extend(v)"
      ]
    },
    {
      "cell_type": "code",
      "execution_count": null,
      "id": "a6131b51",
      "metadata": {
        "id": "a6131b51",
        "outputId": "ab86dbed-728f-404a-dc0a-e584e7ed6300"
      },
      "outputs": [
        {
          "name": "stdout",
          "output_type": "stream",
          "text": [
            "Copying file://text_index.pkl [Content-Type=application/octet-stream]...\n",
            "==> NOTE: You are uploading one or more large file(s), which would run          \n",
            "significantly faster if you enable parallel composite uploads. This\n",
            "feature can be enabled by editing the\n",
            "\"parallel_composite_upload_threshold\" value in your .boto\n",
            "configuration file. However, note that if you do this large files will\n",
            "be uploaded as `composite objects\n",
            "<https://cloud.google.com/storage/docs/composite-objects>`_,which\n",
            "means that any user who downloads such objects will need to have a\n",
            "compiled crcmod installed (see \"gsutil help crcmod\"). This is because\n",
            "without a compiled crcmod, computing checksums on composite objects is\n",
            "so slow that gsutil disables downloads of composite objects.\n",
            "\n",
            "- [1 files][253.4 MiB/253.4 MiB]                                                \n",
            "Operation completed over 1 objects/253.4 MiB.                                    \n"
          ]
        }
      ],
      "source": [
        "# Create inverted index instance\n",
        "inverted = InvertedIndex()\n",
        "inverted.posting_locs = super_posting_locs\n",
        "inverted.df = w2df_dict\n",
        "inverted.term_total = w2tf_dict\n",
        "inverted.DL = docs_dict\n",
        "inverted.docs_norm = norm_dict\n",
        "inverted.write_index('.', 'text_index')\n",
        "index_src = \"text_index.pkl\"\n",
        "index_dst = f'gs://{bucket_name}/postingText/{index_src}'\n",
        "!gsutil cp $index_src $index_dst"
      ]
    },
    {
      "cell_type": "code",
      "execution_count": null,
      "id": "dfbe0161",
      "metadata": {
        "id": "dfbe0161",
        "outputId": "5d3b4850-7b9d-4b8f-df06-614b2d4d5993"
      },
      "outputs": [
        {
          "name": "stderr",
          "output_type": "stream",
          "text": [
            "                                                                                \r"
          ]
        }
      ],
      "source": [
        "# title index\n",
        "word_counts = doc_title_pairs.flatMap(lambda x: word_count(x[0], x[1]))\n",
        "docs_len = doc_title_pairs.map(lambda x: doc_len(x[0], x[1]))\n",
        "docs_dict = docs_len.collectAsMap()\n",
        "postings = word_counts.groupByKey().mapValues(reduce_word_counts)\n",
        "postings_filtered = postings.filter(lambda x: len(x[1])>0)\n",
        "w2df = calculate_df(postings_filtered)\n",
        "w2df_dict = w2df.collectAsMap()\n",
        "w2tf = calculate_tf(postings_filtered)\n",
        "w2tf_dict = w2tf.collectAsMap()\n",
        "docs_norm = doc_title_pairs.map(lambda x: doc_norm(x[0], x[1], docs_dict))\n",
        "norm_dict = docs_norm.collectAsMap()\n",
        "\n",
        "\n",
        "folder_name = \"postings_title\"\n",
        "_ = partition_postings_and_write(postings_filtered, bucket_name, folder_name).collect()\n",
        "super_posting_locs = defaultdict(list)\n",
        "for blob in client.list_blobs(bucket_name, prefix='postings_title'):\n",
        "  if not blob.name.endswith(\"pickle\"):\n",
        "    continue\n",
        "  with blob.open(\"rb\") as f:\n",
        "    posting_locs = pickle.load(f)\n",
        "    for k, v in posting_locs.items():\n",
        "      super_posting_locs[k].extend(v)\n",
        "\n"
      ]
    },
    {
      "cell_type": "code",
      "execution_count": null,
      "id": "55c8764e",
      "metadata": {
        "id": "55c8764e",
        "nbgrader": {
          "grade": false,
          "grade_id": "cell-index_construction",
          "locked": false,
          "schema_version": 3,
          "solution": true,
          "task": false
        },
        "outputId": "1132b061-ab3b-4f81-f9ad-a62c1990af6f"
      },
      "outputs": [
        {
          "name": "stdout",
          "output_type": "stream",
          "text": [
            "Copying file://title_index.pkl [Content-Type=application/octet-stream]...\n",
            "\\ [1 files][144.0 MiB/144.0 MiB]                                                \n",
            "Operation completed over 1 objects/144.0 MiB.                                    \n"
          ]
        }
      ],
      "source": [
        "# Create inverted index instance\n",
        "inverted = InvertedIndex()\n",
        "inverted.posting_locs = super_posting_locs\n",
        "inverted.df = w2df_dict\n",
        "inverted.term_total = w2tf_dict\n",
        "inverted.DL = docs_dict\n",
        "inverted.write_index('.', 'title_index')\n",
        "index_src = \"title_index.pkl\"\n",
        "index_dst = f'gs://{bucket_name}/postings_title/{index_src}'\n",
        "!gsutil cp $index_src $index_dst"
      ]
    },
    {
      "cell_type": "code",
      "execution_count": null,
      "id": "c9832af4",
      "metadata": {
        "id": "c9832af4",
        "outputId": "717ed883-5e2c-4f7e-e3fe-a77cae751568"
      },
      "outputs": [
        {
          "name": "stderr",
          "output_type": "stream",
          "text": [
            "24/03/03 19:51:03 WARN BlockManagerMasterEndpoint: No more replicas available for broadcast_22_python !\n",
            "24/03/03 19:51:04 WARN YarnAllocator: Container from a bad node: container_1709467795120_0004_01_000012 on host: cluster-cf9c-w-2.c.ir2024-416011.internal. Exit status: 143. Diagnostics: [2024-03-03 19:51:04.216]Container killed on request. Exit code is 143\n",
            "[2024-03-03 19:51:04.216]Container exited with a non-zero exit code 143. \n",
            "[2024-03-03 19:51:04.217]Killed by external signal\n",
            ".\n",
            "24/03/03 19:51:04 WARN YarnSchedulerBackend$YarnSchedulerEndpoint: Requesting driver to remove executor 11 for reason Container from a bad node: container_1709467795120_0004_01_000012 on host: cluster-cf9c-w-2.c.ir2024-416011.internal. Exit status: 143. Diagnostics: [2024-03-03 19:51:04.216]Container killed on request. Exit code is 143\n",
            "[2024-03-03 19:51:04.216]Container exited with a non-zero exit code 143. \n",
            "[2024-03-03 19:51:04.217]Killed by external signal\n",
            ".\n",
            "24/03/03 19:51:04 ERROR YarnScheduler: Lost executor 11 on cluster-cf9c-w-2.c.ir2024-416011.internal: Container from a bad node: container_1709467795120_0004_01_000012 on host: cluster-cf9c-w-2.c.ir2024-416011.internal. Exit status: 143. Diagnostics: [2024-03-03 19:51:04.216]Container killed on request. Exit code is 143\n",
            "[2024-03-03 19:51:04.216]Container exited with a non-zero exit code 143. \n",
            "[2024-03-03 19:51:04.217]Killed by external signal\n",
            ".\n",
            "24/03/03 19:51:04 WARN TaskSetManager: Lost task 2.0 in stage 22.0 (TID 1862) (cluster-cf9c-w-2.c.ir2024-416011.internal executor 11): ExecutorLostFailure (executor 11 exited caused by one of the running tasks) Reason: Container from a bad node: container_1709467795120_0004_01_000012 on host: cluster-cf9c-w-2.c.ir2024-416011.internal. Exit status: 143. Diagnostics: [2024-03-03 19:51:04.216]Container killed on request. Exit code is 143\n",
            "[2024-03-03 19:51:04.216]Container exited with a non-zero exit code 143. \n",
            "[2024-03-03 19:51:04.217]Killed by external signal\n",
            ".\n",
            "[Stage 22:==========>                                            (24 + 7) / 124]\r"
          ]
        }
      ],
      "source": [
        "#anchor_index\n",
        "anchor_docs = parquetFile.select(\"id\", \"anchor_text\").rdd.map(lambda r: (r[0], r[1]))\n",
        "anchor = anchor_docs.flatMap(lambda x: x[1])\n",
        "anchor1 = anchor.distinct().groupByKey().mapValues(lambda x: \" \".join(x))\n",
        "anchor2 = anchor1.flatMap(lambda x: word_count(x[1], x[0]))\n",
        "postings = anchor2.groupByKey().mapValues(reduce_word_counts)\n",
        "folder_name = \"postings_anchor\"\n",
        "_ = partition_postings_and_write(postings, bucket_name, folder_name).collect()\n",
        "super_posting_locs = defaultdict(list)\n",
        "for blob in client.list_blobs(bucket_name, prefix='postings_anchor'):\n",
        "  if not blob.name.endswith(\"pickle\"):\n",
        "    continue\n",
        "  with blob.open(\"rb\") as f:\n",
        "    posting_locs = pickle.load(f)\n",
        "    for k, v in posting_locs.items():\n",
        "      super_posting_locs[k].extend(v)\n",
        "\n",
        "\n",
        "inverted = InvertedIndex()\n",
        "inverted.posting_locs = super_posting_locs\n",
        "inverted.write_index('.', 'anchor_idx')\n",
        "index_src = \"anchor_idx.pkl\"\n",
        "index_dst = f'gs://{bucket_name}/postings_anchor/{index_src}'\n",
        "!gsutil cp $index_src $index_dst"
      ]
    },
    {
      "cell_type": "code",
      "execution_count": null,
      "id": "5e9b0d89",
      "metadata": {
        "id": "5e9b0d89",
        "outputId": "39264273-14a7-4ac0-cc7f-4a90afeeb0ea"
      },
      "outputs": [
        {
          "name": "stderr",
          "output_type": "stream",
          "text": [
            "                                                                                \r"
          ]
        },
        {
          "name": "stdout",
          "output_type": "stream",
          "text": [
            "File id2title.pkl uploaded to 208593988.\n"
          ]
        }
      ],
      "source": [
        "#title mapping\n",
        "id2title = parquetFile.select(\"id\", \"title\").toPandas()\n",
        "id2title.index = id2title.id\n",
        "id2title = id2title['title']\n",
        "\n",
        "file_path = 'id2title.pkl'\n",
        "with open(file_path, 'wb') as file:\n",
        "    pickle.dump(id2title, file)\n",
        "\n",
        "bucket_name = '208593988'\n",
        "storage_client = storage.Client()\n",
        "bucket = storage_client.bucket(bucket_name)\n",
        "blob = bucket.blob(file_path)\n",
        "blob.upload_from_filename(file_path)\n",
        "\n",
        "print(f\"File {file_path} uploaded to {bucket_name}.\")"
      ]
    }
  ],
  "metadata": {
    "celltoolbar": "Create Assignment",
    "colab": {
      "provenance": [],
      "toc_visible": true
    },
    "kernelspec": {
      "display_name": "PySpark",
      "language": "python",
      "name": "pyspark"
    },
    "language_info": {
      "codemirror_mode": {
        "name": "ipython",
        "version": 3
      },
      "file_extension": ".py",
      "mimetype": "text/x-python",
      "name": "python",
      "nbconvert_exporter": "python",
      "pygments_lexer": "ipython3",
      "version": "3.10.8"
    }
  },
  "nbformat": 4,
  "nbformat_minor": 5
}